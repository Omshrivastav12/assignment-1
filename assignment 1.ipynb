{
 "cells": [
  {
   "cell_type": "code",
   "execution_count": 1,
   "id": "21a14edb-e63b-43f5-b711-941998fb961d",
   "metadata": {},
   "outputs": [
    {
     "name": "stdout",
     "output_type": "stream",
     "text": [
      "I\n",
      " \n",
      "A\n",
      "M\n",
      " \n",
      "O\n",
      "M\n"
     ]
    }
   ],
   "source": [
    "#for loop is used when we have to perform same operation on eah and every element of a string or list for example we transform all letter of string in to upper ase\n",
    "l = \"i am om\"\n",
    "for i in l:\n",
    "    print(i.upper())"
   ]
  },
  {
   "cell_type": "code",
   "execution_count": 6,
   "id": "52e8a1e0-a8e3-49b3-8e2d-b585b33614c2",
   "metadata": {},
   "outputs": [
    {
     "name": "stdout",
     "output_type": "stream",
     "text": [
      "1\n",
      "2\n",
      "3\n",
      "4\n",
      "5\n",
      "6\n",
      "7\n",
      "8\n",
      "9\n",
      "10\n"
     ]
    }
   ],
   "source": [
    "#while loop is used if we don't have idea about how many times does loop run but have to perform similar operation in all steps. for example \n",
    "i=1\n",
    "while i <= 10:\n",
    "    print(i)\n",
    "    i= i+1"
   ]
  },
  {
   "cell_type": "code",
   "execution_count": 7,
   "id": "de55353c-02f7-4534-94a4-6969c0ec6573",
   "metadata": {},
   "outputs": [
    {
     "name": "stdin",
     "output_type": "stream",
     "text": [
      "Enter any natural number :  5\n"
     ]
    },
    {
     "data": {
      "text/plain": [
       "15"
      ]
     },
     "execution_count": 7,
     "metadata": {},
     "output_type": "execute_result"
    }
   ],
   "source": [
    "#Q2 sum of n natural number \n",
    "#sum BY for loop\n",
    "n = int(input(\"Enter any natural number : \"))\n",
    "l = list(range(0,n+1))\n",
    "total=0\n",
    "for i in l:\n",
    "    total +=i\n",
    "total"
   ]
  },
  {
   "cell_type": "code",
   "execution_count": null,
   "id": "c7e18988-af32-4487-9817-599832bb93d2",
   "metadata": {},
   "outputs": [],
   "source": []
  },
  {
   "cell_type": "code",
   "execution_count": 9,
   "id": "a70e20b1-1ae1-4f72-b441-36504c90fbfb",
   "metadata": {},
   "outputs": [
    {
     "name": "stdin",
     "output_type": "stream",
     "text": [
      "Enter any natural number :  3\n"
     ]
    },
    {
     "data": {
      "text/plain": [
       "6"
      ]
     },
     "execution_count": 9,
     "metadata": {},
     "output_type": "execute_result"
    }
   ],
   "source": [
    "#Q2 sum of n natural number \n",
    "#multipliation BY for loop\n",
    "n = int(input(\"Enter any natural number : \"))\n",
    "l = list(range(1,n+1))\n",
    "total=1\n",
    "for i in l:\n",
    "    total= i*total\n",
    "total"
   ]
  },
  {
   "cell_type": "code",
   "execution_count": 4,
   "id": "728c3a34-4ec3-48fa-94ae-1e6406fb851f",
   "metadata": {},
   "outputs": [
    {
     "name": "stdin",
     "output_type": "stream",
     "text": [
      "Enter units : 310\n"
     ]
    },
    {
     "name": "stdout",
     "output_type": "stream",
     "text": [
      "Bill is 2250\n"
     ]
    }
   ],
   "source": [
    "#Q4 BILL FOR A HOUSEHOLD\n",
    "N = int(input(\"Enter units :\" ))\n",
    "if N<100:\n",
    "    bill = 100-N\n",
    "    print(\"Bill is\",bill*4.5)\n",
    "elif N>100 and N<200:\n",
    "    x= 450\n",
    "    bill = N-100\n",
    "    print(\"Bill is\",x + bill*6)\n",
    "elif N>200 and N<300:\n",
    "    x= 450\n",
    "    y=600\n",
    "    bill = N-200\n",
    "    print(\"Bill is\",x+y+bill*10)\n",
    "elif N>300:\n",
    "    x=450\n",
    "    y=600\n",
    "    z=1000\n",
    "    bill=N-300\n",
    "    print(\"Bill is\",x+y+z+bill*20)\n",
    "\n",
    "    "
   ]
  },
  {
   "cell_type": "code",
   "execution_count": 6,
   "id": "17dc318d-27c3-45c7-8b58-9b5d2077e088",
   "metadata": {},
   "outputs": [
    {
     "data": {
      "text/plain": [
       "[2,\n",
       " 4,\n",
       " 5,\n",
       " 6,\n",
       " 8,\n",
       " 10,\n",
       " 12,\n",
       " 14,\n",
       " 15,\n",
       " 16,\n",
       " 18,\n",
       " 20,\n",
       " 22,\n",
       " 24,\n",
       " 25,\n",
       " 26,\n",
       " 28,\n",
       " 30,\n",
       " 32,\n",
       " 34,\n",
       " 35,\n",
       " 36,\n",
       " 38,\n",
       " 40,\n",
       " 42,\n",
       " 44,\n",
       " 45,\n",
       " 46,\n",
       " 48,\n",
       " 50,\n",
       " 52,\n",
       " 54,\n",
       " 55,\n",
       " 56,\n",
       " 58,\n",
       " 60,\n",
       " 62,\n",
       " 64,\n",
       " 65,\n",
       " 66,\n",
       " 68,\n",
       " 70,\n",
       " 72,\n",
       " 74,\n",
       " 75,\n",
       " 76,\n",
       " 78,\n",
       " 80,\n",
       " 82,\n",
       " 84,\n",
       " 85,\n",
       " 86,\n",
       " 88,\n",
       " 90,\n",
       " 92,\n",
       " 94,\n",
       " 95,\n",
       " 96,\n",
       " 98,\n",
       " 100]"
      ]
     },
     "execution_count": 6,
     "metadata": {},
     "output_type": "execute_result"
    }
   ],
   "source": [
    "#Q4 BY for loop\n",
    "l = list(range(1,101))\n",
    "lst=[]\n",
    "for i in l:\n",
    "    if i**3 %4 ==0 or i**3 %5==0:\n",
    "        lst.append(i)\n",
    "lst"
   ]
  },
  {
   "cell_type": "code",
   "execution_count": 3,
   "id": "88d742a2-b92d-4a34-8ffe-0edd6e2d9712",
   "metadata": {},
   "outputs": [
    {
     "data": {
      "text/plain": [
       "[2,\n",
       " 4,\n",
       " 5,\n",
       " 6,\n",
       " 8,\n",
       " 10,\n",
       " 12,\n",
       " 14,\n",
       " 15,\n",
       " 16,\n",
       " 18,\n",
       " 20,\n",
       " 22,\n",
       " 24,\n",
       " 25,\n",
       " 26,\n",
       " 28,\n",
       " 30,\n",
       " 32,\n",
       " 34,\n",
       " 35,\n",
       " 36,\n",
       " 38,\n",
       " 40,\n",
       " 42,\n",
       " 44,\n",
       " 45,\n",
       " 46,\n",
       " 48,\n",
       " 50,\n",
       " 52,\n",
       " 54,\n",
       " 55,\n",
       " 56,\n",
       " 58,\n",
       " 60,\n",
       " 62,\n",
       " 64,\n",
       " 65,\n",
       " 66,\n",
       " 68,\n",
       " 70,\n",
       " 72,\n",
       " 74,\n",
       " 75,\n",
       " 76,\n",
       " 78,\n",
       " 80,\n",
       " 82,\n",
       " 84,\n",
       " 85,\n",
       " 86,\n",
       " 88,\n",
       " 90,\n",
       " 92,\n",
       " 94,\n",
       " 95,\n",
       " 96,\n",
       " 98,\n",
       " 100]"
      ]
     },
     "execution_count": 3,
     "metadata": {},
     "output_type": "execute_result"
    }
   ],
   "source": [
    "#Q4 by whikle loop\n",
    "l =[]\n",
    "i=1\n",
    "while i<=100:\n",
    "    if i**3 %4==0 or i**3 %5==0:\n",
    "        l.append(i)\n",
    "    i = i+1\n",
    "l"
   ]
  },
  {
   "cell_type": "code",
   "execution_count": 3,
   "id": "19888b25-f7f7-459a-a3b5-c0c9dcd6ca13",
   "metadata": {},
   "outputs": [
    {
     "name": "stdout",
     "output_type": "stream",
     "text": [
      "The vowel ount is 12\n"
     ]
    }
   ],
   "source": [
    "s = \"I want to beome a data sientist \"\n",
    "ount = 0\n",
    "for i in s:\n",
    "    if i.lower()=='a' or i.lower() =='e' or i.lower() == 'i' or i.lower()=='o' or i.lower() =='u':\n",
    "        ount= ount+1\n",
    "print(\"The vowel ount is\", ount)"
   ]
  },
  {
   "cell_type": "code",
   "execution_count": null,
   "id": "3b89f0f9-5f7d-4b37-b429-ccabbe442d6a",
   "metadata": {},
   "outputs": [],
   "source": []
  }
 ],
 "metadata": {
  "kernelspec": {
   "display_name": "Python 3 (ipykernel)",
   "language": "python",
   "name": "python3"
  },
  "language_info": {
   "codemirror_mode": {
    "name": "ipython",
    "version": 3
   },
   "file_extension": ".py",
   "mimetype": "text/x-python",
   "name": "python",
   "nbconvert_exporter": "python",
   "pygments_lexer": "ipython3",
   "version": "3.10.8"
  }
 },
 "nbformat": 4,
 "nbformat_minor": 5
}
